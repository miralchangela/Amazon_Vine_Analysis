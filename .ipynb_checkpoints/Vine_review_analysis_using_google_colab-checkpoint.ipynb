{
 "cells": [
  {
   "cell_type": "code",
   "execution_count": null,
   "metadata": {
    "colab": {
     "base_uri": "https://localhost:8080/"
    },
    "id": "o4RsHCmD7WVj",
    "outputId": "12020c6f-a498-49c5-beb4-d1d89f9f9ef8"
   },
   "outputs": [
    {
     "name": "stdout",
     "output_type": "stream",
     "text": [
      "Looking in indexes: https://pypi.org/simple, https://us-python.pkg.dev/colab-wheels/public/simple/\n",
      "Collecting pyspark\n",
      "  Downloading pyspark-3.3.1.tar.gz (281.4 MB)\n",
      "\u001b[K     |████████████████████████████████| 281.4 MB 38 kB/s \n",
      "\u001b[?25hCollecting py4j==0.10.9.5\n",
      "  Downloading py4j-0.10.9.5-py2.py3-none-any.whl (199 kB)\n",
      "\u001b[K     |████████████████████████████████| 199 kB 41.8 MB/s \n",
      "\u001b[?25hBuilding wheels for collected packages: pyspark\n",
      "  Building wheel for pyspark (setup.py) ... \u001b[?25l\u001b[?25hdone\n",
      "  Created wheel for pyspark: filename=pyspark-3.3.1-py2.py3-none-any.whl size=281845512 sha256=3c38c0a9ec2814dcfc4c5ba24c3581a4465966e2cccc2a97411be5a77b76d6d2\n",
      "  Stored in directory: /root/.cache/pip/wheels/43/dc/11/ec201cd671da62fa9c5cc77078235e40722170ceba231d7598\n",
      "Successfully built pyspark\n",
      "Installing collected packages: py4j, pyspark\n",
      "Successfully installed py4j-0.10.9.5 pyspark-3.3.1\n"
     ]
    }
   ],
   "source": [
    "!pip install pyspark"
   ]
  },
  {
   "cell_type": "code",
   "execution_count": null,
   "metadata": {
    "colab": {
     "base_uri": "https://localhost:8080/"
    },
    "id": "Xz9uCJyh7iV9",
    "outputId": "71657ccb-12d4-494b-fdb7-2e82fe100757"
   },
   "outputs": [
    {
     "name": "stdout",
     "output_type": "stream",
     "text": [
      "--2022-12-15 17:58:16--  https://jdbc.postgresql.org/download/postgresql-42.2.16.jar\n",
      "Resolving jdbc.postgresql.org (jdbc.postgresql.org)... 72.32.157.228, 2001:4800:3e1:1::228\n",
      "Connecting to jdbc.postgresql.org (jdbc.postgresql.org)|72.32.157.228|:443... connected.\n",
      "HTTP request sent, awaiting response... 200 OK\n",
      "Length: 1002883 (979K) [application/java-archive]\n",
      "Saving to: ‘postgresql-42.2.16.jar’\n",
      "\n",
      "postgresql-42.2.16. 100%[===================>] 979.38K  6.16MB/s    in 0.2s    \n",
      "\n",
      "2022-12-15 17:58:16 (6.16 MB/s) - ‘postgresql-42.2.16.jar’ saved [1002883/1002883]\n",
      "\n"
     ]
    }
   ],
   "source": [
    "# Download the Postgres driver that will allow Spark to interact with Postgres.\n",
    "!wget https://jdbc.postgresql.org/download/postgresql-42.2.16.jar"
   ]
  },
  {
   "cell_type": "code",
   "execution_count": null,
   "metadata": {
    "id": "k5oIE7B-7iZd"
   },
   "outputs": [],
   "source": [
    "from pyspark.sql import SparkSession\n",
    "spark = SparkSession.builder.appName(\"Amazon Challenge\").config(\"spark.driver.extraClassPath\",\"/content/postgresql-42.2.16.jar\").getOrCreate()"
   ]
  },
  {
   "cell_type": "code",
   "execution_count": null,
   "metadata": {
    "colab": {
     "base_uri": "https://localhost:8080/"
    },
    "id": "GXnmVodE7icQ",
    "outputId": "baba0e17-9a82-4448-ca30-a31603bda2d1"
   },
   "outputs": [
    {
     "name": "stdout",
     "output_type": "stream",
     "text": [
      "+-----------+-----------+--------------+----------+--------------+--------------------+----------------+-----------+-------------+-----------+----+-----------------+--------------------+--------------------+-------------------+\n",
      "|marketplace|customer_id|     review_id|product_id|product_parent|       product_title|product_category|star_rating|helpful_votes|total_votes|vine|verified_purchase|     review_headline|         review_body|        review_date|\n",
      "+-----------+-----------+--------------+----------+--------------+--------------------+----------------+-----------+-------------+-----------+----+-----------------+--------------------+--------------------+-------------------+\n",
      "|         US|   50423057|R135Q3VZ4DQN5N|B00JWXFDMG|     657335467|Everbling Purple ...|         Jewelry|          5|            0|          0|   N|                Y|           Beauties!|so beautiful even...|2015-08-31 00:00:00|\n",
      "|         US|   11262325|R2N0QQ6R4T7YRY|B00W5T1H9W|      26030170|925 Sterling Silv...|         Jewelry|          5|            0|          0|   N|                N|      Great product.|Great product.. I...|2015-08-31 00:00:00|\n",
      "|         US|   27541121|R3N5JE5Y4T6W5M|B00M2L6KFY|     697845240|Sterling Silver C...|         Jewelry|          5|            0|          0|   N|                Y|Exactly as pictur...|Exactly as pictur...|2015-08-31 00:00:00|\n",
      "|         US|    5350721|R2I150CX5IVY9Q|B0006SW2WU|     569859289|Surgical Stainles...|         Jewelry|          5|            0|          0|   N|                Y|          Five Stars|Love it. Fits gre...|2015-08-31 00:00:00|\n",
      "|         US|   24484424|R1RM9ICOOA9MQ3|B009YPDW70|     332947422|Sterling Silver F...|         Jewelry|          5|            0|          0|   N|                Y|... a Mother's Da...|Got this as a Mot...|2015-08-31 00:00:00|\n",
      "|         US|     457767|R2J2KMDL10UMSH|B00QGA8XZM|     424804582|CHOOSE YOUR COLOR...|         Jewelry|          5|            0|          0|   N|                Y|          Five Stars|I Love It Make Me...|2015-08-31 00:00:00|\n",
      "|         US|   31009358|R3R9ZUFA4TB4FQ|B00L0N0E8E|     589441783|Metal Factory 925...|         Jewelry|          5|            0|          0|   N|                Y|          Five Stars|True to size, unique|2015-08-31 00:00:00|\n",
      "|         US|    7034628|R3UQ8VAQN7R6WL|B00DMWQKWA|     517428445|niceEshop(TM)Clas...|         Jewelry|          5|            0|          0|   N|                Y|          Five Stars|This necklace is ...|2015-08-31 00:00:00|\n",
      "|         US|   34608636|R1FXZ69C01JNQM|B00THLHAGA|     320313750|Genuine Natural B...|         Jewelry|          5|            0|          0|   N|                Y|          Five Stars|        just perfect|2015-08-31 00:00:00|\n",
      "|         US|   44972687| RY36LB4OW0FFS|B00UXSEOHY|     589365488|MBOX Expandable A...|         Jewelry|          5|            0|          0|   N|                Y|          Five Stars|           Love it !|2015-08-31 00:00:00|\n",
      "|         US|   16684508| R6PKS54PC6ZY2|B00XGRYGVS|     217045013|Set of 3 Nose Rin...|         Jewelry|          1|            4|          4|   N|                Y|I had high hopes ...|They didn't even ...|2015-08-31 00:00:00|\n",
      "|         US|   23493178|R1LYSAH0IECVWB|B00AJ2VU8A|     972853757|3-row White A Gra...|         Jewelry|          5|            0|          0|   N|                Y|This is a real ni...|This is a real ni...|2015-08-31 00:00:00|\n",
      "|         US|     108294|R1UN0IZI3XQ3E2|B00LE5Y100|     979375701|KONOV Mens Stainl...|         Jewelry|          5|            2|          3|   N|                Y|             AMAZING|This is a very co...|2015-08-31 00:00:00|\n",
      "|         US|   25810742| RIKDXD8QGL99S|B013E0AOH6|     619592796|TEMEGO Jewelry Me...|         Jewelry|          5|            1|          1|   N|                Y|          Five Stars|Great quality for...|2015-08-31 00:00:00|\n",
      "|         US|   12037665| RUZCQTXZVGUFH|B00XAWUP96|     783863439|Royal Blue/White ...|         Jewelry|          4|            1|          1|   N|                Y|A Little Smaller ...|I like the bracel...|2015-08-31 00:00:00|\n",
      "|         US|   51793466|R35CD4IHO3RP9H|B00WD82F1O|     655270378|10-11mm Baroque F...|         Jewelry|          5|            1|          1|   N|                Y|Pretty and Versatile|This is pretty an...|2015-08-31 00:00:00|\n",
      "|         US|     127508|R13YD66XC9221U|B00JP4XCSO|     592155747|Sankuwen® Fashion...|         Jewelry|          1|            0|          0|   N|                N|Don't get this li...|Don't get this li...|2015-08-31 00:00:00|\n",
      "|         US|   38430946| RHWG4JRVDSEYY|B00PZSM384|     622179716|zjskin6688 store ...|         Jewelry|          3|            1|          1|   N|                Y|         Three Stars|Not what I expect...|2015-08-31 00:00:00|\n",
      "|         US|   33684654|R3SPIKMJ5IWHX8|B00VLMW18K|      36759824|Scheppend Polymer...|         Jewelry|          4|            0|          0|   N|                Y|          Four Stars|Bought these for ...|2015-08-31 00:00:00|\n",
      "|         US|    5068631| RS19ACU7KWWNE|B00U5LDBB4|     575109200|Horizontal Sidewa...|         Jewelry|          5|            1|          1|   N|                Y|          Five Stars|Pretty, and very ...|2015-08-31 00:00:00|\n",
      "+-----------+-----------+--------------+----------+--------------+--------------------+----------------+-----------+-------------+-----------+----+-----------------+--------------------+--------------------+-------------------+\n",
      "only showing top 20 rows\n",
      "\n"
     ]
    }
   ],
   "source": [
    "from pyspark import SparkFiles\n",
    "url = \"https://miral-bucket.s3.us-east-2.amazonaws.com/amazon_reviews_us_Jewelry_v1_00.tsv\"\n",
    "spark.sparkContext.addFile(url)\n",
    "df = spark.read.option(\"encoding\", \"UTF-8\").csv(SparkFiles.get(\"amazon_reviews_us_Jewelry_v1_00.tsv\"), sep=\"\\t\", header=True, inferSchema=True)\n",
    "df.show()"
   ]
  },
  {
   "cell_type": "code",
   "execution_count": null,
   "metadata": {
    "colab": {
     "base_uri": "https://localhost:8080/"
    },
    "id": "MhfE_6wC7ifY",
    "outputId": "ff1af316-626b-4508-8931-bb05a51390c9"
   },
   "outputs": [
    {
     "name": "stdout",
     "output_type": "stream",
     "text": [
      "+--------------+-----------+-------------+-----------+----+-----------------+\n",
      "|     review_id|star_rating|helpful_votes|total_votes|vine|verified_purchase|\n",
      "+--------------+-----------+-------------+-----------+----+-----------------+\n",
      "|R135Q3VZ4DQN5N|          5|            0|          0|   N|                Y|\n",
      "|R2N0QQ6R4T7YRY|          5|            0|          0|   N|                N|\n",
      "|R3N5JE5Y4T6W5M|          5|            0|          0|   N|                Y|\n",
      "|R2I150CX5IVY9Q|          5|            0|          0|   N|                Y|\n",
      "|R1RM9ICOOA9MQ3|          5|            0|          0|   N|                Y|\n",
      "|R2J2KMDL10UMSH|          5|            0|          0|   N|                Y|\n",
      "|R3R9ZUFA4TB4FQ|          5|            0|          0|   N|                Y|\n",
      "|R3UQ8VAQN7R6WL|          5|            0|          0|   N|                Y|\n",
      "|R1FXZ69C01JNQM|          5|            0|          0|   N|                Y|\n",
      "| RY36LB4OW0FFS|          5|            0|          0|   N|                Y|\n",
      "| R6PKS54PC6ZY2|          1|            4|          4|   N|                Y|\n",
      "|R1LYSAH0IECVWB|          5|            0|          0|   N|                Y|\n",
      "|R1UN0IZI3XQ3E2|          5|            2|          3|   N|                Y|\n",
      "| RIKDXD8QGL99S|          5|            1|          1|   N|                Y|\n",
      "| RUZCQTXZVGUFH|          4|            1|          1|   N|                Y|\n",
      "|R35CD4IHO3RP9H|          5|            1|          1|   N|                Y|\n",
      "|R13YD66XC9221U|          1|            0|          0|   N|                N|\n",
      "| RHWG4JRVDSEYY|          3|            1|          1|   N|                Y|\n",
      "|R3SPIKMJ5IWHX8|          4|            0|          0|   N|                Y|\n",
      "| RS19ACU7KWWNE|          5|            1|          1|   N|                Y|\n",
      "+--------------+-----------+-------------+-----------+----+-----------------+\n",
      "only showing top 20 rows\n",
      "\n"
     ]
    }
   ],
   "source": [
    "# Create the vine_table. DataFrame\n",
    "vine_df = df.select([\"review_id\" ,\"star_rating\",\"helpful_votes\",\"total_votes\",\"vine\",\"verified_purchase\"])\n",
    "vine_df.show()"
   ]
  },
  {
   "cell_type": "code",
   "execution_count": null,
   "metadata": {
    "colab": {
     "base_uri": "https://localhost:8080/"
    },
    "id": "j8jhFRw87ii6",
    "outputId": "89077bb7-fc38-43d6-86fb-932d6396e4ee"
   },
   "outputs": [
    {
     "name": "stdout",
     "output_type": "stream",
     "text": [
      "+--------------+-----------+-------------+-----------+----+-----------------+\n",
      "|     review_id|star_rating|helpful_votes|total_votes|vine|verified_purchase|\n",
      "+--------------+-----------+-------------+-----------+----+-----------------+\n",
      "|R16YC6SMGKA8SR|          5|           23|         23|   N|                Y|\n",
      "| R5O4WE9UM60B0|          1|           29|         29|   N|                Y|\n",
      "|R2EKRVCRC7U0IY|          1|           22|         24|   N|                Y|\n",
      "|R2OKV47GETH0L7|          5|           24|         24|   N|                Y|\n",
      "| R36LII9IITE17|          1|           22|         24|   N|                Y|\n",
      "|R35VKNE16PFY0H|          5|           22|         24|   N|                N|\n",
      "|R3TG008LHHZZIN|          5|          123|        125|   N|                Y|\n",
      "|R2FYQBKCC1XG4M|          5|           20|         20|   N|                Y|\n",
      "| R63PV336NI5X7|          1|           27|         28|   N|                Y|\n",
      "|R1R42WPHB5ZSWI|          5|           51|         52|   N|                Y|\n",
      "| RXSS0QZJE1TEO|          1|           35|         35|   N|                Y|\n",
      "| RGS9C5XKWVYP9|          1|           24|         24|   N|                Y|\n",
      "|R3R5BWMKH1EUIQ|          5|           26|         27|   N|                N|\n",
      "|R2KBDT7RGO1G86|          3|           33|         39|   N|                Y|\n",
      "|R2WA09RFYT69GB|          5|           21|         22|   N|                Y|\n",
      "| RYNTUAMCHU3W4|          5|           22|         22|   N|                Y|\n",
      "|R3U5NCDM6NLHLC|          5|           29|         30|   N|                Y|\n",
      "| R8708W8U0Z89A|          2|           37|         38|   N|                Y|\n",
      "| RFT7R66D3SA54|          5|           23|         24|   N|                Y|\n",
      "|R1OI5TTOS49U8R|          5|           33|         34|   N|                Y|\n",
      "+--------------+-----------+-------------+-----------+----+-----------------+\n",
      "only showing top 20 rows\n",
      "\n"
     ]
    }
   ],
   "source": [
    "# total votes is greater than or equal to 20\n",
    "total_votes = vine_df.filter(\"total_votes>=20\")\n",
    "total_votes.show()"
   ]
  },
  {
   "cell_type": "code",
   "execution_count": null,
   "metadata": {
    "colab": {
     "base_uri": "https://localhost:8080/"
    },
    "id": "M4kM7WU59XHg",
    "outputId": "bb1c9053-26a4-49d3-9eb7-4bfc861eca6b"
   },
   "outputs": [
    {
     "name": "stdout",
     "output_type": "stream",
     "text": [
      "+--------------+-----------+-------------+-----------+----+-----------------+\n",
      "|     review_id|star_rating|helpful_votes|total_votes|vine|verified_purchase|\n",
      "+--------------+-----------+-------------+-----------+----+-----------------+\n",
      "|R16YC6SMGKA8SR|          5|           23|         23|   N|                Y|\n",
      "| R5O4WE9UM60B0|          1|           29|         29|   N|                Y|\n",
      "|R2EKRVCRC7U0IY|          1|           22|         24|   N|                Y|\n",
      "|R2OKV47GETH0L7|          5|           24|         24|   N|                Y|\n",
      "| R36LII9IITE17|          1|           22|         24|   N|                Y|\n",
      "|R35VKNE16PFY0H|          5|           22|         24|   N|                N|\n",
      "|R3TG008LHHZZIN|          5|          123|        125|   N|                Y|\n",
      "|R2FYQBKCC1XG4M|          5|           20|         20|   N|                Y|\n",
      "| R63PV336NI5X7|          1|           27|         28|   N|                Y|\n",
      "|R1R42WPHB5ZSWI|          5|           51|         52|   N|                Y|\n",
      "| RXSS0QZJE1TEO|          1|           35|         35|   N|                Y|\n",
      "| RGS9C5XKWVYP9|          1|           24|         24|   N|                Y|\n",
      "|R3R5BWMKH1EUIQ|          5|           26|         27|   N|                N|\n",
      "|R2KBDT7RGO1G86|          3|           33|         39|   N|                Y|\n",
      "|R2WA09RFYT69GB|          5|           21|         22|   N|                Y|\n",
      "| RYNTUAMCHU3W4|          5|           22|         22|   N|                Y|\n",
      "|R3U5NCDM6NLHLC|          5|           29|         30|   N|                Y|\n",
      "| R8708W8U0Z89A|          2|           37|         38|   N|                Y|\n",
      "| RFT7R66D3SA54|          5|           23|         24|   N|                Y|\n",
      "|R1OI5TTOS49U8R|          5|           33|         34|   N|                Y|\n",
      "+--------------+-----------+-------------+-----------+----+-----------------+\n",
      "only showing top 20 rows\n",
      "\n"
     ]
    }
   ],
   "source": [
    "helpful_votes = total_votes.filter(\"helpful_votes/total_votes>=0.5\")\n",
    "helpful_votes.show()"
   ]
  },
  {
   "cell_type": "code",
   "execution_count": null,
   "metadata": {
    "colab": {
     "base_uri": "https://localhost:8080/"
    },
    "id": "b0Ry38aG9XQ1",
    "outputId": "88ef8340-dcf0-4c2a-9bae-52d76d936d64"
   },
   "outputs": [
    {
     "name": "stdout",
     "output_type": "stream",
     "text": [
      "+--------------+-----------+-------------+-----------+----+-----------------+\n",
      "|     review_id|star_rating|helpful_votes|total_votes|vine|verified_purchase|\n",
      "+--------------+-----------+-------------+-----------+----+-----------------+\n",
      "|R15PXA9XU9ZKSU|          4|           29|         29|   Y|                N|\n",
      "|R2LJ4QYQ4PYDEH|          5|           24|         26|   Y|                N|\n",
      "|R2PJWWQZ37WCIC|          5|           95|         96|   Y|                N|\n",
      "|R33G2VDKRN2USY|          5|           21|         21|   Y|                N|\n",
      "|R13R4X37T2U50A|          4|           52|         57|   Y|                N|\n",
      "|R1X1J2NAQ39DF6|          4|           29|         34|   Y|                N|\n",
      "|R2UV5XHFNMPXOX|          5|           60|         61|   Y|                N|\n",
      "|R31V08BCC9X3MF|          5|           18|         22|   Y|                N|\n",
      "|R2G00QWTYW9N2G|          5|           86|         91|   Y|                N|\n",
      "| RL8H3NKKP989J|          5|           30|         34|   Y|                N|\n",
      "| RZ65QBOJ8ZNRN|          4|           19|         22|   Y|                N|\n",
      "| RDZBWH5MFEQY1|          5|           18|         22|   Y|                N|\n",
      "|R24SU7KP57HE8L|          4|           25|         26|   Y|                N|\n",
      "| RV3V9VIC29R8S|          2|           66|         68|   Y|                N|\n",
      "|R31AR3XSFSHY1B|          4|           33|         35|   Y|                N|\n",
      "|R3VWAKQ4JXGE55|          5|           33|         34|   Y|                N|\n",
      "| RNZ2BP0EHN7IK|          5|           20|         20|   Y|                N|\n",
      "| RXKITVQ3MN3PS|          4|           22|         23|   Y|                N|\n",
      "|R3TZE1OYDVZPRD|          5|           23|         24|   Y|                N|\n",
      "|R3FO353G2ET17M|          4|           23|         24|   Y|                N|\n",
      "+--------------+-----------+-------------+-----------+----+-----------------+\n",
      "only showing top 20 rows\n",
      "\n"
     ]
    }
   ],
   "source": [
    "paid_vine_program = helpful_votes.filter(\"vine == 'Y'\")\n",
    "paid_vine_program.show()"
   ]
  },
  {
   "cell_type": "code",
   "execution_count": null,
   "metadata": {
    "colab": {
     "base_uri": "https://localhost:8080/"
    },
    "id": "mm2IDmD99XUv",
    "outputId": "810be52f-114d-40cb-c6c7-5a60f1f2ef4c"
   },
   "outputs": [
    {
     "name": "stdout",
     "output_type": "stream",
     "text": [
      "+--------------+-----------+-------------+-----------+----+-----------------+\n",
      "|     review_id|star_rating|helpful_votes|total_votes|vine|verified_purchase|\n",
      "+--------------+-----------+-------------+-----------+----+-----------------+\n",
      "|R16YC6SMGKA8SR|          5|           23|         23|   N|                Y|\n",
      "| R5O4WE9UM60B0|          1|           29|         29|   N|                Y|\n",
      "|R2EKRVCRC7U0IY|          1|           22|         24|   N|                Y|\n",
      "|R2OKV47GETH0L7|          5|           24|         24|   N|                Y|\n",
      "| R36LII9IITE17|          1|           22|         24|   N|                Y|\n",
      "|R35VKNE16PFY0H|          5|           22|         24|   N|                N|\n",
      "|R3TG008LHHZZIN|          5|          123|        125|   N|                Y|\n",
      "|R2FYQBKCC1XG4M|          5|           20|         20|   N|                Y|\n",
      "| R63PV336NI5X7|          1|           27|         28|   N|                Y|\n",
      "|R1R42WPHB5ZSWI|          5|           51|         52|   N|                Y|\n",
      "| RXSS0QZJE1TEO|          1|           35|         35|   N|                Y|\n",
      "| RGS9C5XKWVYP9|          1|           24|         24|   N|                Y|\n",
      "|R3R5BWMKH1EUIQ|          5|           26|         27|   N|                N|\n",
      "|R2KBDT7RGO1G86|          3|           33|         39|   N|                Y|\n",
      "|R2WA09RFYT69GB|          5|           21|         22|   N|                Y|\n",
      "| RYNTUAMCHU3W4|          5|           22|         22|   N|                Y|\n",
      "|R3U5NCDM6NLHLC|          5|           29|         30|   N|                Y|\n",
      "| R8708W8U0Z89A|          2|           37|         38|   N|                Y|\n",
      "| RFT7R66D3SA54|          5|           23|         24|   N|                Y|\n",
      "|R1OI5TTOS49U8R|          5|           33|         34|   N|                Y|\n",
      "+--------------+-----------+-------------+-----------+----+-----------------+\n",
      "only showing top 20 rows\n",
      "\n"
     ]
    }
   ],
   "source": [
    "unpaid_vine_program = helpful_votes.filter(\"vine == 'N' \")\n",
    "unpaid_vine_program.show()"
   ]
  },
  {
   "cell_type": "code",
   "execution_count": 15,
   "metadata": {
    "colab": {
     "base_uri": "https://localhost:8080/"
    },
    "id": "m0BTUxjI_aNB",
    "outputId": "4c31122a-4099-4fb9-a50f-bbf50934d511"
   },
   "outputs": [
    {
     "name": "stdout",
     "output_type": "stream",
     "text": [
      "Total number of reviews are: 21.000000, The number of 5-star reviews are: 11.000000 and the percentage of 5-star reviews for paid vine program is: 52.380952\n"
     ]
    }
   ],
   "source": [
    "# Determine the total number of reviews, the number of 5-star reviews, and the percentage of 5-star reviews for paid vine program\n",
    "\n",
    "number_of_reviews = paid_vine_program.count()\n",
    "number_of_5_star_reviews = paid_vine_program.filter(\"star_rating = 5\").count()\n",
    "percentage_of_5_star_review = (number_of_5_star_reviews/number_of_reviews) *100\n",
    "\n",
    "print(\"Total number of reviews are: %f, The number of 5-star reviews are: %f and the percentage of 5-star reviews for paid vine program is: %f\"\n",
    " %(number_of_reviews , number_of_5_star_reviews , percentage_of_5_star_review))"
   ]
  },
  {
   "cell_type": "code",
   "execution_count": 16,
   "metadata": {
    "colab": {
     "base_uri": "https://localhost:8080/"
    },
    "id": "pB0Sg8eU_acv",
    "outputId": "87c2b1b0-d539-43c7-e8ca-c607c8728895"
   },
   "outputs": [
    {
     "name": "stdout",
     "output_type": "stream",
     "text": [
      "Total number of reviews are: 7689.000000 , The number of 5-star reviews are: 4444.000000 and the percentage of 5-star reviews for unpaid vine program is: 57.796853\n"
     ]
    }
   ],
   "source": [
    "# Determine the total number of reviews, the number of 5-star reviews, and the percentage of 5-star reviews for unpaid vine program\n",
    "\n",
    "number_of_reviews_up = unpaid_vine_program.count()\n",
    "number_of_5_star_reviews_up = unpaid_vine_program.filter(\"star_rating = 5\").count()\n",
    "percentage_of_5_star_review_up = (number_of_5_star_reviews_up/number_of_reviews_up) *100\n",
    "\n",
    "print(\"Total number of reviews are: %f , The number of 5-star reviews are: %f and the percentage of 5-star reviews for unpaid vine program is: %f\"\n",
    " %(number_of_reviews_up , number_of_5_star_reviews_up , percentage_of_5_star_review_up))"
   ]
  },
  {
   "cell_type": "code",
   "execution_count": null,
   "metadata": {
    "id": "n098lwOW_amX"
   },
   "outputs": [],
   "source": []
  }
 ],
 "metadata": {
  "colab": {
   "provenance": []
  },
  "kernelspec": {
   "display_name": "Python 3",
   "language": "python",
   "name": "python3"
  },
  "language_info": {
   "codemirror_mode": {
    "name": "ipython",
    "version": 3
   },
   "file_extension": ".py",
   "mimetype": "text/x-python",
   "name": "python",
   "nbconvert_exporter": "python",
   "pygments_lexer": "ipython3",
   "version": "3.8.8"
  }
 },
 "nbformat": 4,
 "nbformat_minor": 1
}
