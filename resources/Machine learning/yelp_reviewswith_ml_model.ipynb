{
  "nbformat": 4,
  "nbformat_minor": 0,
  "metadata": {
    "colab": {
      "provenance": []
    },
    "kernelspec": {
      "name": "python3",
      "display_name": "Python 3"
    },
    "language_info": {
      "name": "python"
    }
  },
  "cells": [
    {
      "cell_type": "code",
      "execution_count": null,
      "metadata": {
        "colab": {
          "base_uri": "https://localhost:8080/"
        },
        "id": "wT2HC4sCUmjf",
        "outputId": "a2fc0100-d0ed-4481-fb09-7c6b5952d042"
      },
      "outputs": [
        {
          "output_type": "stream",
          "name": "stdout",
          "text": [
            "Looking in indexes: https://pypi.org/simple, https://us-python.pkg.dev/colab-wheels/public/simple/\n",
            "Collecting pyspark\n",
            "  Downloading pyspark-3.3.1.tar.gz (281.4 MB)\n",
            "\u001b[K     |████████████████████████████████| 281.4 MB 37 kB/s \n",
            "\u001b[?25hCollecting py4j==0.10.9.5\n",
            "  Downloading py4j-0.10.9.5-py2.py3-none-any.whl (199 kB)\n",
            "\u001b[K     |████████████████████████████████| 199 kB 56.3 MB/s \n",
            "\u001b[?25hBuilding wheels for collected packages: pyspark\n",
            "  Building wheel for pyspark (setup.py) ... \u001b[?25l\u001b[?25hdone\n",
            "  Created wheel for pyspark: filename=pyspark-3.3.1-py2.py3-none-any.whl size=281845512 sha256=acb08f9f38acd8c08a5bc37381c4202b4e68636508ec543bdffc76ea9879f5bb\n",
            "  Stored in directory: /root/.cache/pip/wheels/43/dc/11/ec201cd671da62fa9c5cc77078235e40722170ceba231d7598\n",
            "Successfully built pyspark\n",
            "Installing collected packages: py4j, pyspark\n",
            "Successfully installed py4j-0.10.9.5 pyspark-3.3.1\n"
          ]
        }
      ],
      "source": [
        "!pip install pyspark"
      ]
    },
    {
      "cell_type": "code",
      "source": [
        "from pyspark.sql import SparkSession\n",
        "spark = SparkSession.builder.appName(\"yelp-NLP\").getOrCreate()"
      ],
      "metadata": {
        "id": "V1u7pkhMVfhD"
      },
      "execution_count": null,
      "outputs": []
    },
    {
      "cell_type": "code",
      "source": [
        "# Read in data from S3 Buckets\n",
        "from pyspark import SparkFiles\n",
        "url =\"https://2u-data-curriculum-team.s3.amazonaws.com/dataviz-online/v2/module_17/yelp_reviews.csv\"\n",
        "spark.sparkContext.addFile(url)\n",
        "df = spark.read.csv(SparkFiles.get(\"yelp_reviews.csv\"), sep=\",\", header=True)\n",
        "\n",
        "# Show DataFrame\n",
        "df.show()"
      ],
      "metadata": {
        "colab": {
          "base_uri": "https://localhost:8080/"
        },
        "id": "o51kCXK7VfyG",
        "outputId": "64d918bd-09c9-4842-dbe2-6e3138368f9c"
      },
      "execution_count": null,
      "outputs": [
        {
          "output_type": "stream",
          "name": "stdout",
          "text": [
            "+--------+--------------------+\n",
            "|   class|                text|\n",
            "+--------+--------------------+\n",
            "|positive|Wow... Loved this...|\n",
            "|negative|  Crust is not good.|\n",
            "|negative|Not tasty and the...|\n",
            "|positive|Stopped by during...|\n",
            "|positive|The selection on ...|\n",
            "|negative|Now I am getting ...|\n",
            "|negative|Honeslty it didn'...|\n",
            "|negative|The potatoes were...|\n",
            "|positive|The fries were gr...|\n",
            "|positive|      A great touch.|\n",
            "|positive|Service was very ...|\n",
            "|negative|  Would not go back.|\n",
            "|negative|The cashier had n...|\n",
            "|positive|I tried the Cape ...|\n",
            "|negative|I was disgusted b...|\n",
            "|negative|I was shocked bec...|\n",
            "|positive| Highly recommended.|\n",
            "|negative|Waitress was a li...|\n",
            "|negative|This place is not...|\n",
            "|negative|did not like at all.|\n",
            "+--------+--------------------+\n",
            "only showing top 20 rows\n",
            "\n"
          ]
        }
      ]
    },
    {
      "cell_type": "code",
      "source": [
        "# Import functions\n",
        "from pyspark.ml.feature import Tokenizer, StopWordsRemover, HashingTF, IDF, StringIndexer"
      ],
      "metadata": {
        "id": "wEuASp4HVgAE"
      },
      "execution_count": null,
      "outputs": []
    },
    {
      "cell_type": "code",
      "source": [
        "from pyspark.sql.functions import length\n",
        "# Create a length column to be used as a future feature\n",
        "data_df = df.withColumn('length', length(df['text']))\n",
        "data_df.show()"
      ],
      "metadata": {
        "colab": {
          "base_uri": "https://localhost:8080/"
        },
        "id": "Yo4eumRaVgLc",
        "outputId": "e7839980-80ac-4ffb-bd97-3913d55dac38"
      },
      "execution_count": null,
      "outputs": [
        {
          "output_type": "stream",
          "name": "stdout",
          "text": [
            "+--------+--------------------+------+\n",
            "|   class|                text|length|\n",
            "+--------+--------------------+------+\n",
            "|positive|Wow... Loved this...|    24|\n",
            "|negative|  Crust is not good.|    18|\n",
            "|negative|Not tasty and the...|    41|\n",
            "|positive|Stopped by during...|    87|\n",
            "|positive|The selection on ...|    59|\n",
            "|negative|Now I am getting ...|    46|\n",
            "|negative|Honeslty it didn'...|    37|\n",
            "|negative|The potatoes were...|   111|\n",
            "|positive|The fries were gr...|    25|\n",
            "|positive|      A great touch.|    14|\n",
            "|positive|Service was very ...|    24|\n",
            "|negative|  Would not go back.|    18|\n",
            "|negative|The cashier had n...|    99|\n",
            "|positive|I tried the Cape ...|    59|\n",
            "|negative|I was disgusted b...|    62|\n",
            "|negative|I was shocked bec...|    50|\n",
            "|positive| Highly recommended.|    19|\n",
            "|negative|Waitress was a li...|    38|\n",
            "|negative|This place is not...|    51|\n",
            "|negative|did not like at all.|    20|\n",
            "+--------+--------------------+------+\n",
            "only showing top 20 rows\n",
            "\n"
          ]
        }
      ]
    },
    {
      "cell_type": "code",
      "source": [
        "# Create all the features to the data set\n",
        "pos_neg_to_num = StringIndexer(inputCol='class',outputCol='label')\n",
        "tokenizer = Tokenizer(inputCol=\"text\", outputCol=\"token_text\")\n",
        "stopremove = StopWordsRemover(inputCol='token_text',outputCol='stop_tokens')\n",
        "hashingTF = HashingTF(inputCol=\"stop_tokens\", outputCol='hash_token')\n",
        "idf = IDF(inputCol='hash_token', outputCol='idf_token')"
      ],
      "metadata": {
        "id": "5hUNRPzgWx0U"
      },
      "execution_count": null,
      "outputs": []
    },
    {
      "cell_type": "code",
      "source": [
        "data_df.show()"
      ],
      "metadata": {
        "colab": {
          "base_uri": "https://localhost:8080/"
        },
        "id": "iI4zlNKgWx8I",
        "outputId": "462e4037-e086-4939-a2d3-b3e7d70084f5"
      },
      "execution_count": null,
      "outputs": [
        {
          "output_type": "stream",
          "name": "stdout",
          "text": [
            "+--------+--------------------+------+\n",
            "|   class|                text|length|\n",
            "+--------+--------------------+------+\n",
            "|positive|Wow... Loved this...|    24|\n",
            "|negative|  Crust is not good.|    18|\n",
            "|negative|Not tasty and the...|    41|\n",
            "|positive|Stopped by during...|    87|\n",
            "|positive|The selection on ...|    59|\n",
            "|negative|Now I am getting ...|    46|\n",
            "|negative|Honeslty it didn'...|    37|\n",
            "|negative|The potatoes were...|   111|\n",
            "|positive|The fries were gr...|    25|\n",
            "|positive|      A great touch.|    14|\n",
            "|positive|Service was very ...|    24|\n",
            "|negative|  Would not go back.|    18|\n",
            "|negative|The cashier had n...|    99|\n",
            "|positive|I tried the Cape ...|    59|\n",
            "|negative|I was disgusted b...|    62|\n",
            "|negative|I was shocked bec...|    50|\n",
            "|positive| Highly recommended.|    19|\n",
            "|negative|Waitress was a li...|    38|\n",
            "|negative|This place is not...|    51|\n",
            "|negative|did not like at all.|    20|\n",
            "+--------+--------------------+------+\n",
            "only showing top 20 rows\n",
            "\n"
          ]
        }
      ]
    },
    {
      "cell_type": "code",
      "source": [
        "from pyspark.ml.feature import VectorAssembler\n",
        "from pyspark.ml.linalg import Vector\n",
        "# Create feature vectors\n",
        "clean_up = VectorAssembler(inputCols=['idf_token', 'length'], outputCol='features')"
      ],
      "metadata": {
        "id": "meUliX5U1sUV"
      },
      "execution_count": null,
      "outputs": []
    },
    {
      "cell_type": "code",
      "source": [
        "# Create and run a data processing Pipeline\n",
        "from pyspark.ml import Pipeline\n",
        "data_prep_pipeline = Pipeline(stages=[pos_neg_to_num, tokenizer, stopremove, hashingTF, idf, clean_up])"
      ],
      "metadata": {
        "id": "dxO8XRj3WyKQ"
      },
      "execution_count": null,
      "outputs": []
    },
    {
      "cell_type": "code",
      "source": [
        "data_prep_pipeline"
      ],
      "metadata": {
        "colab": {
          "base_uri": "https://localhost:8080/"
        },
        "id": "hl6sTTTn1wRB",
        "outputId": "bd54f474-d13b-4325-96f2-debb2a1b6c8a"
      },
      "execution_count": null,
      "outputs": [
        {
          "output_type": "execute_result",
          "data": {
            "text/plain": [
              "Pipeline_dee192fa70c8"
            ]
          },
          "metadata": {},
          "execution_count": 13
        }
      ]
    },
    {
      "cell_type": "code",
      "source": [
        "# Fit and transform the pipeline\n",
        "cleaner = data_prep_pipeline.fit(data_df)\n",
        "cleaned = cleaner.transform(data_df)"
      ],
      "metadata": {
        "id": "H3Vy2ENy2SLO"
      },
      "execution_count": null,
      "outputs": []
    },
    {
      "cell_type": "code",
      "source": [
        "cleaned.show()"
      ],
      "metadata": {
        "colab": {
          "base_uri": "https://localhost:8080/"
        },
        "id": "o7yB6hyl2VRS",
        "outputId": "c528829a-f067-4983-cc92-a55a925bd82e"
      },
      "execution_count": null,
      "outputs": [
        {
          "output_type": "stream",
          "name": "stdout",
          "text": [
            "+--------+--------------------+------+-----+--------------------+--------------------+--------------------+--------------------+--------------------+\n",
            "|   class|                text|length|label|          token_text|         stop_tokens|          hash_token|           idf_token|            features|\n",
            "+--------+--------------------+------+-----+--------------------+--------------------+--------------------+--------------------+--------------------+\n",
            "|positive|Wow... Loved this...|    24|  1.0|[wow..., loved, t...|[wow..., loved, p...|(262144,[177414,2...|(262144,[177414,2...|(262145,[177414,2...|\n",
            "|negative|  Crust is not good.|    18|  0.0|[crust, is, not, ...|      [crust, good.]|(262144,[49815,23...|(262144,[49815,23...|(262145,[49815,23...|\n",
            "|negative|Not tasty and the...|    41|  0.0|[not, tasty, and,...|[tasty, texture, ...|(262144,[109649,1...|(262144,[109649,1...|(262145,[109649,1...|\n",
            "|positive|Stopped by during...|    87|  1.0|[stopped, by, dur...|[stopped, late, m...|(262144,[53101,68...|(262144,[53101,68...|(262145,[53101,68...|\n",
            "|positive|The selection on ...|    59|  1.0|[the, selection, ...|[selection, menu,...|(262144,[15370,77...|(262144,[15370,77...|(262145,[15370,77...|\n",
            "|negative|Now I am getting ...|    46|  0.0|[now, i, am, gett...|[getting, angry, ...|(262144,[98142,13...|(262144,[98142,13...|(262145,[98142,13...|\n",
            "|negative|Honeslty it didn'...|    37|  0.0|[honeslty, it, di...|[honeslty, taste,...|(262144,[59172,22...|(262144,[59172,22...|(262145,[59172,22...|\n",
            "|negative|The potatoes were...|   111|  0.0|[the, potatoes, w...|[potatoes, like, ...|(262144,[63420,85...|(262144,[63420,85...|(262145,[63420,85...|\n",
            "|positive|The fries were gr...|    25|  1.0|[the, fries, were...|[fries, great, too.]|(262144,[53777,17...|(262144,[53777,17...|(262145,[53777,17...|\n",
            "|positive|      A great touch.|    14|  1.0|  [a, great, touch.]|     [great, touch.]|(262144,[221827,2...|(262144,[221827,2...|(262145,[221827,2...|\n",
            "|positive|Service was very ...|    24|  1.0|[service, was, ve...|  [service, prompt.]|(262144,[43756,22...|(262144,[43756,22...|(262145,[43756,22...|\n",
            "|negative|  Would not go back.|    18|  0.0|[would, not, go, ...|         [go, back.]|(262144,[127310,1...|(262144,[127310,1...|(262145,[127310,1...|\n",
            "|negative|The cashier had n...|    99|  0.0|[the, cashier, ha...|[cashier, care, e...|(262144,[407,3153...|(262144,[407,3153...|(262145,[407,3153...|\n",
            "|positive|I tried the Cape ...|    59|  1.0|[i, tried, the, c...|[tried, cape, cod...|(262144,[18098,93...|(262144,[18098,93...|(262145,[18098,93...|\n",
            "|negative|I was disgusted b...|    62|  0.0|[i, was, disguste...|[disgusted, prett...|(262144,[23071,12...|(262144,[23071,12...|(262145,[23071,12...|\n",
            "|negative|I was shocked bec...|    50|  0.0|[i, was, shocked,...|[shocked, signs, ...|(262144,[129941,1...|(262144,[129941,1...|(262145,[129941,1...|\n",
            "|positive| Highly recommended.|    19|  1.0|[highly, recommen...|[highly, recommen...|(262144,[19633,21...|(262144,[19633,21...|(262145,[19633,21...|\n",
            "|negative|Waitress was a li...|    38|  0.0|[waitress, was, a...|[waitress, little...|(262144,[27707,65...|(262144,[27707,65...|(262145,[27707,65...|\n",
            "|negative|This place is not...|    51|  0.0|[this, place, is,...|[place, worth, ti...|(262144,[20891,27...|(262144,[20891,27...|(262145,[20891,27...|\n",
            "|negative|did not like at all.|    20|  0.0|[did, not, like, ...|        [like, all.]|(262144,[8287,208...|(262144,[8287,208...|(262145,[8287,208...|\n",
            "+--------+--------------------+------+-----+--------------------+--------------------+--------------------+--------------------+--------------------+\n",
            "only showing top 20 rows\n",
            "\n"
          ]
        }
      ]
    },
    {
      "cell_type": "code",
      "source": [
        "# Break data down into a training set and a testing set\n",
        "training, testing = cleaned.randomSplit([0.7, 0.3], 21)"
      ],
      "metadata": {
        "id": "L9oXSmUSa5zq"
      },
      "execution_count": null,
      "outputs": []
    },
    {
      "cell_type": "code",
      "source": [
        "from pyspark.ml.classification import NaiveBayes\n",
        "# Create a Naive Bayes model and fit training data\n",
        "nb = NaiveBayes()\n",
        "predictor = nb.fit(training)"
      ],
      "metadata": {
        "id": "ASDgR6P2a6Aw"
      },
      "execution_count": null,
      "outputs": []
    },
    {
      "cell_type": "code",
      "source": [
        "test_results = predictor.transform(testing)\n",
        "test_results.show()"
      ],
      "metadata": {
        "colab": {
          "base_uri": "https://localhost:8080/"
        },
        "id": "e21OF8Aoa6Nx",
        "outputId": "292a5160-d923-4e3f-e3e0-85106dcecbfd"
      },
      "execution_count": null,
      "outputs": [
        {
          "output_type": "stream",
          "name": "stdout",
          "text": [
            "+--------+--------------------+------+-----+--------------------+--------------------+--------------------+--------------------+--------------------+--------------------+--------------------+----------+\n",
            "|   class|                text|length|label|          token_text|         stop_tokens|          hash_token|           idf_token|            features|       rawPrediction|         probability|prediction|\n",
            "+--------+--------------------+------+-----+--------------------+--------------------+--------------------+--------------------+--------------------+--------------------+--------------------+----------+\n",
            "|negative|\"The burger... I ...|    86|  0.0|[\"the, burger...,...|[\"the, burger...,...|(262144,[20298,21...|(262144,[20298,21...|(262145,[20298,21...|[-820.60780566975...|[0.99999999999995...|       0.0|\n",
            "|negative|              #NAME?|     6|  0.0|            [#name?]|            [#name?]|(262144,[197050],...|(262144,[197050],...|(262145,[197050,2...|[-73.489435340867...|[0.07515735596910...|       1.0|\n",
            "|negative|After I pulled up...|    83|  0.0|[after, i, pulled...|[pulled, car, wai...|(262144,[65645,71...|(262144,[65645,71...|(262145,[65645,71...|[-620.40646705112...|[1.0,1.9205984091...|       0.0|\n",
            "|negative|Also, I feel like...|    58|  0.0|[also,, i, feel, ...|[also,, feel, lik...|(262144,[61899,66...|(262144,[61899,66...|(262145,[61899,66...|[-528.59562125515...|[0.99999999994873...|       0.0|\n",
            "|negative|Anyway, I do not ...|    44|  0.0|[anyway,, i, do, ...|[anyway,, think, ...|(262144,[132270,1...|(262144,[132270,1...|(262145,[132270,1...|[-334.09599709326...|[0.99999999994185...|       0.0|\n",
            "|negative|Anyways, The food...|   102|  0.0|[anyways,, the, f...|[anyways,, food, ...|(262144,[6346,685...|(262144,[6346,685...|(262145,[6346,685...|[-779.27125246078...|[0.99905255158977...|       0.0|\n",
            "|negative|As a sushi lover ...|    47|  0.0|[as, a, sushi, lo...|[sushi, lover, av...|(262144,[6261,709...|(262144,[6261,709...|(262145,[6261,709...|[-400.43450785699...|[0.99999998920319...|       0.0|\n",
            "|negative|As much as I'd li...|    95|  0.0|[as, much, as, i'...|[much, like, go, ...|(262144,[37908,43...|(262144,[37908,43...|(262145,[37908,43...|[-694.99839226333...|[1.0,1.5392272978...|       0.0|\n",
            "|negative|Before I go in to...|   132|  0.0|[before, i, go, i...|[go, gave, 1, sta...|(262144,[9781,926...|(262144,[9781,926...|(262145,[9781,926...|[-1163.1578812603...|[1.0,2.0965497135...|       0.0|\n",
            "|negative|But I definitely ...|    42|  0.0|[but, i, definite...|[definitely, eat,...|(262144,[6346,112...|(262144,[6346,112...|(262145,[6346,112...|[-225.43919775119...|[0.99979792050352...|       0.0|\n",
            "|negative|But now I was com...|    37|  0.0|[but, now, i, was...|[completely, gros...|(262144,[123874,1...|(262144,[123874,1...|(262145,[123874,1...|[-300.28103502273...|[0.93477724115336...|       0.0|\n",
            "|negative|But then they cam...|    29|  0.0|[but, then, they,...| [came, back, cold.]|(262144,[65844,13...|(262144,[65844,13...|(262145,[65844,13...|[-195.30008379866...|[0.99999998229401...|       0.0|\n",
            "|negative|  Crust is not good.|    18|  0.0|[crust, is, not, ...|      [crust, good.]|(262144,[49815,23...|(262144,[49815,23...|(262145,[49815,23...|[-158.39316295644...|[0.24542103246923...|       1.0|\n",
            "|negative|Del Taco is prett...|    59|  0.0|[del, taco, is, p...|[del, taco, prett...|(262144,[16793,21...|(262144,[16793,21...|(262145,[16793,21...|[-570.55820515039...|[3.21792658799547...|       1.0|\n",
            "|negative|Do yourself a fav...|    49|  0.0|[do, yourself, a,...|[favor, stay, awa...|(262144,[1004,912...|(262144,[1004,912...|(262145,[1004,912...|[-401.50632368758...|[2.80032615028215...|       1.0|\n",
            "|negative|Don't bother comi...|    25|  0.0|[don't, bother, c...|[bother, coming, ...|(262144,[12409,31...|(262144,[12409,31...|(262145,[12409,31...|[-225.61607913435...|[0.99953245668819...|       0.0|\n",
            "|negative|Everything was gr...|    21|  0.0|[everything, was,...|[everything, gross.]|(262144,[76187,12...|(262144,[76187,12...|(262145,[76187,12...|[-184.45183122800...|[0.04035071997062...|       1.0|\n",
            "|negative|First - the bathr...|   105|  0.0|[first, -, the, b...|[first, -, bathro...|(262144,[25615,38...|(262144,[25615,38...|(262145,[25615,38...|[-1003.3633555890...|[0.96780198039995...|       0.0|\n",
            "|negative|Food was average ...|    25|  0.0|[food, was, avera...|[food, average, b...|(262144,[38795,98...|(262144,[38795,98...|(262145,[38795,98...|[-191.08411756853...|[0.99999999999994...|       0.0|\n",
            "|negative|Food was really b...|    23|  0.0|[food, was, reall...|[food, really, bo...|(262144,[121133,1...|(262144,[121133,1...|(262145,[121133,1...|[-190.57878406148...|[0.85028925285655...|       0.0|\n",
            "+--------+--------------------+------+-----+--------------------+--------------------+--------------------+--------------------+--------------------+--------------------+--------------------+----------+\n",
            "only showing top 20 rows\n",
            "\n"
          ]
        }
      ]
    },
    {
      "cell_type": "code",
      "source": [
        "from pyspark.ml.evaluation import BinaryClassificationEvaluator\n",
        "acc_eval = BinaryClassificationEvaluator(labelCol='label' , rawPredictionCol='prediction')\n",
        "acc = acc_eval.evaluate(test_results)\n",
        "print(\"Accuracy of the model at predicting reviews was: %f\" % acc)"
      ],
      "metadata": {
        "colab": {
          "base_uri": "https://localhost:8080/"
        },
        "id": "Ti59t9pSb0Jm",
        "outputId": "fa0e1ffa-a23d-442b-edf7-1addccecda8b"
      },
      "execution_count": null,
      "outputs": [
        {
          "output_type": "stream",
          "name": "stdout",
          "text": [
            "Accuracy of the model at predicting reviews was: 0.700298\n"
          ]
        }
      ]
    },
    {
      "cell_type": "code",
      "source": [],
      "metadata": {
        "id": "DW4GcGEIb0W-"
      },
      "execution_count": null,
      "outputs": []
    },
    {
      "cell_type": "code",
      "source": [],
      "metadata": {
        "id": "561Bh2U_b0af"
      },
      "execution_count": null,
      "outputs": []
    },
    {
      "cell_type": "code",
      "source": [],
      "metadata": {
        "id": "20AxeLyTb0eD"
      },
      "execution_count": null,
      "outputs": []
    }
  ]
}